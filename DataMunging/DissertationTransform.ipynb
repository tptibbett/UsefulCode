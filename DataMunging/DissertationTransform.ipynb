{
 "cells": [
  {
   "cell_type": "code",
   "execution_count": null,
   "metadata": {
    "collapsed": true
   },
   "outputs": [],
   "source": [
    "# Dissertation Dataset Cleaning Program\n",
    "# Tom Tibbett"
   ]
  },
  {
   "cell_type": "code",
   "execution_count": null,
   "metadata": {
    "collapsed": false
   },
   "outputs": [],
   "source": [
    "import pandas as pd\n",
    "import numpy as np\n",
    "import scipy as sp\n",
    "from matplotlib import pyplot as plt\n",
    "from matplotlib import pylab\n",
    "from matplotlib.collections import EllipseCollection\n",
    "import statsmodels.api as sm\n",
    "%matplotlib inline\n",
    "pylab.rcParams['figure.figsize'] = (15.0, 12.0)"
   ]
  },
  {
   "cell_type": "code",
   "execution_count": null,
   "metadata": {
    "collapsed": false
   },
   "outputs": [],
   "source": [
    "df=pd.read_csv('PCS_Results.csv', header=1)"
   ]
  },
  {
   "cell_type": "code",
   "execution_count": null,
   "metadata": {
    "collapsed": false
   },
   "outputs": [],
   "source": [
    "df.columns"
   ]
  },
  {
   "cell_type": "code",
   "execution_count": null,
   "metadata": {
    "collapsed": true
   },
   "outputs": [],
   "source": [
    "col=pd.read_csv('columns.csv', header=None)"
   ]
  },
  {
   "cell_type": "code",
   "execution_count": null,
   "metadata": {
    "collapsed": false
   },
   "outputs": [],
   "source": [
    "col=col.iloc[:,0]\n",
    "df.columns=col"
   ]
  },
  {
   "cell_type": "code",
   "execution_count": null,
   "metadata": {
    "collapsed": false
   },
   "outputs": [],
   "source": [
    "df.head()"
   ]
  },
  {
   "cell_type": "code",
   "execution_count": null,
   "metadata": {
    "collapsed": false
   },
   "outputs": [],
   "source": [
    "df=df.drop(['Type', 'IP', 'Progress', 'Finished', 'DateRecord', 'ResponseID', 'LastName', 'FirstName',\n",
    "        'Email', 'Reference', 'Latitude', 'Longitude', 'Channel', 'RunNum'], axis=1)"
   ]
  },
  {
   "cell_type": "code",
   "execution_count": null,
   "metadata": {
    "collapsed": false,
    "scrolled": true
   },
   "outputs": [],
   "source": [
    "df.head()"
   ]
  },
  {
   "cell_type": "code",
   "execution_count": null,
   "metadata": {
    "collapsed": false
   },
   "outputs": [],
   "source": [
    "# Turning Duration to Minutes\n",
    "df.Duration=df.Duration/60\n",
    "\n",
    "# Creating Mean Scores for Each Relevant Scale\n",
    "df.PCSTotal=df.PCSTotal/5\n",
    "df.HEXACOTotal=df.HEXACOTotal/10\n",
    "df.MIL_S_Total=df.MIL_S_Total/5\n",
    "df.MIL_P_Total=df.MIL_P_Total/5\n",
    "df.Auth_Total=df.Auth_Total/12\n",
    "df.DP_Total=df.DP_Total/5\n",
    "df.SelfPlu_Total=df.SelfPlu_Total/10\n",
    "df.NFC_Total=df.NFC_Total/18\n",
    "df.ToI_Total=df.ToI_Total/8\n",
    "df.MI_E_Total=df.MI_E_Total/4\n",
    "df.MI_C_Total=df.MI_C_Total/4\n",
    "df.MI_O_Total=df.MI_O_Total/4\n",
    "df.MI_N_Total=df.MI_N_Total/4\n",
    "df.MI_A_Total=df.MI_A_Total/4\n",
    "df.BFI_E_Total=df.BFI_E_Total/12\n",
    "df.BFI_C_Total=df.BFI_C_Total/12\n",
    "df.BFI_O_Total=df.BFI_O_Total/12\n",
    "df.BFI_N_Total=df.BFI_N_Total/12\n",
    "df.BFI_A_Total=df.BFI_A_Total/12\n",
    "df.SMS_SP_Total=df.SMS_SP_Total/7\n",
    "df.SMS_XB_Total=df.SMS_XB_Total/6\n",
    "\n",
    "# The Creative Personality Scale is just a total."
   ]
  },
  {
   "cell_type": "code",
   "execution_count": null,
   "metadata": {
    "collapsed": false,
    "scrolled": true
   },
   "outputs": [],
   "source": [
    "df.head()"
   ]
  },
  {
   "cell_type": "code",
   "execution_count": null,
   "metadata": {
    "collapsed": true
   },
   "outputs": [],
   "source": [
    "# Reverse Scoring Relevant Items\n",
    "df.HEXACO_3=6-df.HEXACO_3\n",
    "df.HEXACO_4=6-df.HEXACO_4\n",
    "df.HEXACO_5=6-df.HEXACO_5\n",
    "df.HEXACO_6=6-df.HEXACO_6\n",
    "df.HEXACO_7=6-df.HEXACO_7\n",
    "df.HEXACO_8=6-df.HEXACO_8\n",
    "df.HEXACO_9=6-df.HEXACO_9\n",
    "df.HEXACO_10=6-df.HEXACO_10\n",
    "\n",
    "df.IPIP_6=8-df.IPIP_6\n",
    "df.IPIP_7=8-df.IPIP_7\n",
    "df.IPIP_8=8-df.IPIP_8\n",
    "df.IPIP_9=8-df.IPIP_9\n",
    "df.IPIP_10=8-df.IPIP_10\n",
    "df.IPIP_15=8-df.IPIP_15\n",
    "df.IPIP_16=8-df.IPIP_16\n",
    "df.IPIP_17=8-df.IPIP_17\n",
    "df.IPIP_18=8-df.IPIP_18\n",
    "df.IPIP_19=8-df.IPIP_19\n",
    "df.IPIP_20=8-df.IPIP_20\n",
    "\n",
    "df.SelfPlur_1=3-df.SelfPlur_1\n",
    "df.SelfPlur_3=3-df.SelfPlur_3\n",
    "df.SelfPlur_4=3-df.SelfPlur_4\n",
    "df.SelfPlur_6=3-df.SelfPlur_6\n",
    "df.SelfPlur_9=3-df.SelfPlur_9\n",
    "\n",
    "df.N4C_3=10-df.N4C_3\n",
    "df.N4C_4=10-df.N4C_4\n",
    "df.N4C_5=10-df.N4C_5\n",
    "df.N4C_7=10-df.N4C_7\n",
    "df.N4C_8=10-df.N4C_8\n",
    "df.N4C_9=10-df.N4C_9\n",
    "df.N4C_12=10-df.N4C_12\n",
    "df.N4C_16=10-df.N4C_16\n",
    "df.N4C_17=10-df.N4C_17\n",
    "\n",
    "df.TInt_3=7-df.TInt_3\n",
    "df.TInt_5=7-df.TInt_5\n",
    "df.TInt_6=7-df.TInt_6\n",
    "df.TInt_7=7-df.TInt_7\n",
    "df.TInt_8=7-df.TInt_8\n",
    "\n",
    "df.Auth_2=8-df.Auth_2\n",
    "df.Auth_3=8-df.Auth_3\n",
    "df.Auth_4=8-df.Auth_4\n",
    "df.Auth_5=8-df.Auth_5\n",
    "df.Auth_6=8-df.Auth_6\n",
    "df.Auth_7=8-df.Auth_7\n",
    "df.Auth_10=8-df.Auth_10\n",
    "df.Auth_12=8-df.Auth_12\n",
    "\n",
    "df.MIL_9=8-df.MIL_9\n",
    "\n",
    "df.BFI_3=6-df.BFI_3\n",
    "df.BFI_4=6-df.BFI_4\n",
    "df.BFI_7=6-df.BFI_7\n",
    "df.BFI_8=6-df.BFI_8\n",
    "df.BFI_11=6-df.BFI_11\n",
    "df.BFI_12=6-df.BFI_12\n",
    "df.BFI_15=6-df.BFI_15\n",
    "df.BFI_16=6-df.BFI_16\n",
    "df.BFI_19=6-df.BFI_19\n",
    "df.BFI_20=6-df.BFI_20\n",
    "df.BFI_23=6-df.BFI_23\n",
    "df.BFI_24=6-df.BFI_24\n",
    "df.BFI_27=6-df.BFI_27\n",
    "df.BFI_28=6-df.BFI_28\n",
    "df.BFI_31=6-df.BFI_31\n",
    "df.BFI_32=6-df.BFI_32\n",
    "df.BFI_35=6-df.BFI_35\n",
    "df.BFI_36=6-df.BFI_36\n",
    "df.BFI_39=6-df.BFI_39\n",
    "df.BFI_40=6-df.BFI_40\n",
    "df.BFI_43=6-df.BFI_43\n",
    "df.BFI_44=6-df.BFI_44\n",
    "df.BFI_47=6-df.BFI_47\n",
    "df.BFI_48=6-df.BFI_48\n",
    "df.BFI_51=6-df.BFI_51\n",
    "df.BFI_52=6-df.BFI_52\n",
    "df.BFI_55=6-df.BFI_55\n",
    "df.BFI_56=6-df.BFI_56\n",
    "df.BFI_59=6-df.BFI_59\n",
    "df.BFI_60=6-df.BFI_60\n",
    "\n",
    "df.SelfMon_4=6-df.SelfMon_4 # Qualtrics Messed Up the Columns Here...\n",
    "df.SelfMon_6=6-df.SelfMon_6"
   ]
  },
  {
   "cell_type": "code",
   "execution_count": null,
   "metadata": {
    "collapsed": true
   },
   "outputs": [],
   "source": [
    "# CPS\n",
    "CPS=df.CPS.str.get_dummies(sep=\",\")\n",
    "\n",
    "# Reverse Coding\n",
    "neg=['2', '4', '6', '7', '9', '11', '13', '15', '16', '18', '22', '24', '28']\n",
    "for column in neg:\n",
    "     CPS[column].replace(to_replace=1, value=-1, inplace=True)"
   ]
  },
  {
   "cell_type": "code",
   "execution_count": null,
   "metadata": {
    "collapsed": true
   },
   "outputs": [],
   "source": [
    "CPS['CPSTotal']=np.sum(CPS, axis=1)"
   ]
  },
  {
   "cell_type": "code",
   "execution_count": null,
   "metadata": {
    "collapsed": true
   },
   "outputs": [],
   "source": [
    "df.CPSTotal=CPS['CPSTotal']"
   ]
  },
  {
   "cell_type": "code",
   "execution_count": null,
   "metadata": {
    "collapsed": false
   },
   "outputs": [],
   "source": [
    "scales=df.ix[:,-23:].describe()\n",
    "scales.ix[1:,:].transpose().round(decimals=2)"
   ]
  },
  {
   "cell_type": "code",
   "execution_count": null,
   "metadata": {
    "collapsed": false
   },
   "outputs": [],
   "source": [
    "scales.round(decimals=2)"
   ]
  },
  {
   "cell_type": "code",
   "execution_count": null,
   "metadata": {
    "collapsed": false
   },
   "outputs": [],
   "source": [
    "demo1=df[['Age', 'Duration']].describe().transpose()\n",
    "demo1.round(decimals=2)"
   ]
  },
  {
   "cell_type": "code",
   "execution_count": null,
   "metadata": {
    "collapsed": false
   },
   "outputs": [],
   "source": [
    "gender=df.Gender.value_counts()\n",
    "politics=df.Pol.value_counts()\n",
    "religion=df.Rel.value_counts()\n",
    "classif=df.Class.value_counts()\n",
    "check=df.CrCheck.value_counts()"
   ]
  },
  {
   "cell_type": "code",
   "execution_count": null,
   "metadata": {
    "collapsed": false
   },
   "outputs": [],
   "source": [
    "classif=pd.DataFrame(classif)\n",
    "classif=classif.reset_index()\n",
    "classif.columns=['Class', 'Count']\n",
    "\n",
    "# According to the Codebook\n",
    "classif.loc[classif['Class']==1, 'Class']='Freshman'\n",
    "classif.loc[classif['Class']==2, 'Class']='Sophomore'\n",
    "classif.loc[classif['Class']==3, 'Class']='Junior'\n",
    "classif.loc[classif['Class']==4, 'Class']='Senior'\n",
    "\n",
    "classif"
   ]
  },
  {
   "cell_type": "code",
   "execution_count": null,
   "metadata": {
    "collapsed": false
   },
   "outputs": [],
   "source": [
    "religion=pd.DataFrame(religion)\n",
    "religion=religion.reset_index()\n",
    "religion.columns=['Religion', 'Count']\n",
    "\n",
    "# According to the Codebook\n",
    "religion.loc[religion['Religion']==1, 'Religion']='Christian, Catholic'\n",
    "religion.loc[religion['Religion']==2, 'Religion']='Christian, Non-Catholic'\n",
    "religion.loc[religion['Religion']==3, 'Religion']='Judaism'\n",
    "religion.loc[religion['Religion']==4, 'Religion']='Islam'\n",
    "religion.loc[religion['Religion']==5, 'Religion']='Hinduism'\n",
    "religion.loc[religion['Religion']==6, 'Religion']='Agnosticism'\n",
    "religion.loc[religion['Religion']==7, 'Religion']='Atheism'\n",
    "religion.loc[religion['Religion']==8, 'Religion']='Other'\n",
    "\n",
    "religion"
   ]
  },
  {
   "cell_type": "code",
   "execution_count": null,
   "metadata": {
    "collapsed": false
   },
   "outputs": [],
   "source": [
    "politics=pd.DataFrame(politics)\n",
    "politics=politics.reset_index()\n",
    "politics.columns=['Political Affiliation', 'Count']\n",
    "\n",
    "# According to the Codebook\n",
    "politics.loc[politics['Political Affiliation']==1, 'Political Affiliation']='Independent'\n",
    "politics.loc[politics['Political Affiliation']==2, 'Political Affiliation']='Democrat'\n",
    "politics.loc[politics['Political Affiliation']==3, 'Political Affiliation']='Republican'\n",
    "politics.loc[politics['Political Affiliation']==4, 'Political Affiliation']='Libertarian'\n",
    "politics.loc[politics['Political Affiliation']==5, 'Political Affiliation']='Tea Party'\n",
    "politics.loc[politics['Political Affiliation']==6, 'Political Affiliation']='Other'\n",
    "\n",
    "politics"
   ]
  },
  {
   "cell_type": "code",
   "execution_count": null,
   "metadata": {
    "collapsed": false
   },
   "outputs": [],
   "source": [
    "gender=pd.DataFrame(gender) \n",
    "gender=gender.reset_index()\n",
    "gender.columns=['Gender', 'Count']\n",
    "\n",
    "# According to the Codebook\n",
    "gender.loc[gender['Gender']==1, 'Gender']='Male'\n",
    "gender.loc[gender['Gender']==2, 'Gender']='Female'\n",
    "\n",
    "gender"
   ]
  },
  {
   "cell_type": "code",
   "execution_count": null,
   "metadata": {
    "collapsed": false
   },
   "outputs": [],
   "source": [
    "check=pd.DataFrame(check) \n",
    "check=check.reset_index()\n",
    "check.columns=['Check', 'Count']\n",
    "\n",
    "# According to the Codebook\n",
    "check.loc[check['Check']==1, 'Check']='New Task'\n",
    "check.loc[check['Check']==2, 'Check']='Similar Task'\n",
    "check.loc[check['Check']==3, 'Check']='Done this Exact Task'\n",
    "\n",
    "check"
   ]
  },
  {
   "cell_type": "code",
   "execution_count": null,
   "metadata": {
    "collapsed": false,
    "scrolled": true
   },
   "outputs": [],
   "source": [
    "means=df.ix[:,-22:]\n",
    "mcorr=means.corr(method='pearson').round(decimals=2)\n",
    "mcorr.to_csv('PCS_correlation_matrix.csv')"
   ]
  },
  {
   "cell_type": "code",
   "execution_count": null,
   "metadata": {
    "collapsed": false
   },
   "outputs": [],
   "source": [
    "def plot_corr_ellipses(data, ax=None, **kwargs):\n",
    "\n",
    "    M = np.array(data)\n",
    "    if not M.ndim == 2:\n",
    "        raise ValueError('data must be a 2D array')\n",
    "    if ax is None:\n",
    "        fig, ax = plt.subplots(1, 1, subplot_kw={'aspect':'equal'})\n",
    "        ax.set_xlim(-0.5, M.shape[1] - 0.5)\n",
    "        ax.set_ylim(-0.5, M.shape[0] - 0.5)\n",
    "\n",
    "    # xy locations of each ellipse center\n",
    "    xy = np.indices(M.shape)[::-1].reshape(2, -1).T\n",
    "\n",
    "    # set the relative sizes of the major/minor axes according to the strength of\n",
    "    # the positive/negative correlation\n",
    "    w = np.ones_like(M).ravel()\n",
    "    h = 1 - np.abs(M).ravel()\n",
    "    a = 45 * np.sign(M).ravel()\n",
    "\n",
    "    ec = EllipseCollection(widths=w, heights=h, angles=a, units='x', offsets=xy,\n",
    "                           transOffset=ax.transData, array=M.ravel(), **kwargs)\n",
    "    ax.add_collection(ec)\n",
    "\n",
    "    # if data is a DataFrame, use the row/column names as tick labels\n",
    "    if isinstance(data, pd.DataFrame):\n",
    "        ax.set_xticks(np.arange(M.shape[1]))\n",
    "        ax.set_xticklabels(data.columns, rotation=90)\n",
    "        ax.set_yticks(np.arange(M.shape[0]))\n",
    "        ax.set_yticklabels(data.index)\n",
    "\n",
    "    return ec"
   ]
  },
  {
   "cell_type": "code",
   "execution_count": null,
   "metadata": {
    "collapsed": false
   },
   "outputs": [],
   "source": [
    "data = means.corr()\n",
    "fig, ax = plt.subplots(1, 1)\n",
    "m = plot_corr_ellipses(data, ax=ax, cmap='seismic', clim=[-1, 1])\n",
    "cb = fig.colorbar(m)\n",
    "cb.set_label('Correlation coefficient')\n",
    "ax.margins(0.1)"
   ]
  },
  {
   "cell_type": "code",
   "execution_count": null,
   "metadata": {
    "collapsed": false
   },
   "outputs": [],
   "source": [
    "plt.show()"
   ]
  },
  {
   "cell_type": "code",
   "execution_count": null,
   "metadata": {
    "collapsed": false
   },
   "outputs": [],
   "source": [
    "# Calculating Cronbach's alpha\n",
    "# Note: This is not robust to missing values.  It will return NaN if there is one.\n",
    " \n",
    "def CronbachAlpha(itemscores):\n",
    "    itemscores = np.asarray(itemscores)\n",
    "    itemvars = itemscores.var(axis=1, ddof=1)\n",
    "    tscores = itemscores.sum(axis=0)\n",
    "    nitems = len(itemscores)\n",
    "\n",
    "    return nitems / (nitems-1.) * (1 - itemvars.sum() / tscores.var(ddof=1))"
   ]
  },
  {
   "cell_type": "code",
   "execution_count": null,
   "metadata": {
    "collapsed": true
   },
   "outputs": [],
   "source": [
    "#Defining the Measures to be Tested\n",
    "cPCS=[df.PCS_1, df.PCS_2, df.PCS_3, df.PCS_4, df.PCS_5]\n",
    "cHEXACO=[df.HEXACO_1, df.HEXACO_2, df.HEXACO_3, df.HEXACO_4, df.HEXACO_5, \n",
    "         df.HEXACO_6, df.HEXACO_7, df.HEXACO_8, df.HEXACO_9, df.HEXACO_10]\n",
    "cMILs=[df.MIL_2, df.MIL_3, df.MIL_7, df.MIL_8, df.MIL_10]\n",
    "cMILp=[df.MIL_1, df.MIL_4, df.MIL_5, df.MIL_6, df.MIL_9]\n",
    "cAuth=[df.Auth_1, df.Auth_2, df.Auth_3, df.Auth_4, df.Auth_5, df.Auth_6,\n",
    "      df.Auth_7, df.Auth_8, df.Auth_9, df.Auth_10, df.Auth_11, df.Auth_12]\n",
    "cDP=[df.DP_1, df.DP_2, df.DP_3, df.DP_4, df.DP_5]\n",
    "cSelfPl=[df.SelfPlur_1, df.SelfPlur_2, df.SelfPlur_3, df.SelfPlur_4, df.SelfPlur_5,\n",
    "        df.SelfPlur_6, df.SelfPlur_7, df.SelfPlur_8, df.SelfPlur_9, df.SelfPlur_10]\n",
    "cNFC=[df.N4C_1, df.N4C_2, df.N4C_3, df.N4C_4, df.N4C_5, df.N4C_6,\n",
    "     df.N4C_7, df.N4C_8, df.N4C_9, df.N4C_10, df.N4C_11, df.N4C_12,\n",
    "     df.N4C_13, df.N4C_14, df.N4C_15, df.N4C_16, df.N4C_17, df.N4C_18]\n",
    "cToI=[df.TInt_1, df.TInt_2, df.TInt_3, df.TInt_4, df.TInt_5,\n",
    "     df.TInt_6, df.TInt_7, df.TInt_8]\n",
    "cMIe=[df.IPIP_1, df.IPIP_6, df.IPIP_11, df.IPIP_16]\n",
    "cMIa=[df.IPIP_2, df.IPIP_7, df.IPIP_12, df.IPIP_17]\n",
    "cMIc=[df.IPIP_3, df.IPIP_8, df.IPIP_13, df.IPIP_18]\n",
    "cMIn=[df.IPIP_4, df.IPIP_9, df.IPIP_14, df.IPIP_19]\n",
    "cMIo=[df.IPIP_5, df.IPIP_10, df.IPIP_15, df.IPIP_20]\n",
    "cBFIe=[df.BFI_1, df.BFI_2, df.BFI_3, df.BFI_4, df.BFI_5, df.BFI_6,\n",
    "      df.BFI_7, df.BFI_8, df.BFI_9, df.BFI_10, df.BFI_11, df.BFI_12]\n",
    "cBFIa=[df.BFI_13, df.BFI_14, df.BFI_15, df.BFI_16, df.BFI_17, df.BFI_18,\n",
    "      df.BFI_19, df.BFI_20, df.BFI_21, df.BFI_22, df.BFI_23, df.BFI_24]\n",
    "cBFIc=[df.BFI_25, df.BFI_26, df.BFI_27, df.BFI_28, df.BFI_29, df.BFI_30,\n",
    "      df.BFI_31, df.BFI_32,df.BFI_33, df.BFI_34, df.BFI_35, df.BFI_36]\n",
    "cBFIn=[df.BFI_37, df.BFI_38, df.BFI_39, df.BFI_40, df.BFI_41, df.BFI_42,\n",
    "      df.BFI_43, df.BFI_44, df.BFI_45, df.BFI_46, df.BFI_47, df.BFI_48]\n",
    "cBFIo=[df.BFI_49, df.BFI_50, df.BFI_51, df.BFI_52, df.BFI_53, df.BFI_54,\n",
    "      df.BFI_55, df.BFI_56, df.BFI_57, df.BFI_58, df.BFI_59, df.BFI_60]\n",
    "cSMSsp=[df.SelfMon_1, df.SelfMon_2, df.SelfMon_3, df.SelfMon_4, df.SelfMon_5, df.SelfMon_6, df.SelfMon_7]\n",
    "cSMSxb=[df.SelfMon_8, df.SelfMon_9, df.SelfMon_10, df.SelfMon_11, df.SelfMon_12, df.SelfMon_13]"
   ]
  },
  {
   "cell_type": "code",
   "execution_count": null,
   "metadata": {
    "collapsed": false
   },
   "outputs": [],
   "source": [
    "Alpha=[[\"Personality Consistency Scale\", CronbachAlpha(cPCS)],\n",
    "       [\"HEXACO Flexibility\", CronbachAlpha(cHEXACO)],\n",
    "       [\"Meaning In Life Searching\", CronbachAlpha(cMILs)],\n",
    "       [\"Meaning In Life Presence\", CronbachAlpha(cMILp)],\n",
    "       [\"Authenticity Scale\", CronbachAlpha(cAuth)],\n",
    "       [\"Decisional Procrastination\", CronbachAlpha(cDP)],\n",
    "       [\"Self Pluralism Scale\", CronbachAlpha(cSelfPl)],\n",
    "       [\"Need for Cognition\", CronbachAlpha(cNFC)],\n",
    "       [\"Theory of Intelligence\", CronbachAlpha(cToI)],\n",
    "       [\"Mini IPIP Extraversion\", CronbachAlpha(cMIe)],\n",
    "       [\"Mini IPIP Conscientious\", CronbachAlpha(cMIc)],\n",
    "       [\"Mini IPIP Openness\", CronbachAlpha(cMIo)],\n",
    "       [\"Mini IPIP Neuroticism\", CronbachAlpha(cMIn)],\n",
    "       [\"Mini IPIP Agreeable\", CronbachAlpha(cMIa)],\n",
    "       [\"BFI Extraversion\", CronbachAlpha(cBFIe)],\n",
    "       [\"BFI Conscientious\", CronbachAlpha(cBFIc)],\n",
    "       [\"BFI Openness\", CronbachAlpha(cBFIo)],\n",
    "       [\"BFI Neuroticism\", CronbachAlpha(cBFIn)],\n",
    "       [\"BFI Agreeable\", CronbachAlpha(cBFIa)],\n",
    "       [\"Self Monitoring SP\", CronbachAlpha(cSMSsp)],\n",
    "       [\"Self Monitoring XB\", CronbachAlpha(cSMSxb)]\n",
    "       ]\n",
    "Alpha=pd.DataFrame(Alpha)\n",
    "Alpha.columns=['Psychological Scale', 'Alpha']\n",
    "Alpha.round(decimals=2)"
   ]
  },
  {
   "cell_type": "code",
   "execution_count": null,
   "metadata": {
    "collapsed": false
   },
   "outputs": [],
   "source": [
    "# Controlling for Commas\n",
    "df.CPS=df.CPS.replace(to_replace=',', value='_', regex=True)\n",
    "df.Lang=df.Lang.replace(to_replace=',', value='_', regex=True)\n",
    "df.LangOther=df.LangOther.replace(to_replace=',', value='', regex=True)\n",
    "df.PolOther=df.PolOther.replace(to_replace=',', value='', regex=True)\n",
    "df.Feedback=df.Feedback.replace(to_replace=',', value='', regex=True)\n",
    "df.OtherRel=df.OtherRel.replace(to_replace=',', value='', regex=True)\n",
    "df.Major=df.Major.replace(to_replace=',', value='', regex=True)\n",
    "df.Major=df.Major.str.upper()\n",
    "df.Major=df.Major.str.split().str.get(0)"
   ]
  },
  {
   "cell_type": "code",
   "execution_count": null,
   "metadata": {
    "collapsed": false
   },
   "outputs": [],
   "source": [
    "# Spelling Errors\n",
    "df.loc[df.Major=='ALLIED', 'Major']='ALLIED HEALTH'\n",
    "df.loc[df.Major=='PUBLIC', 'Major']='PUBLIC HEALTH'\n",
    "df.loc[df.Major=='ANIMAL', 'Major']='ANIMAL SCIENCE'\n",
    "df.loc[df.Major=='CHEMICAL', 'Major']='CHEMICAL ENGINEERING'\n",
    "df.loc[df.Major=='PUBLIC', 'Major']='PUBLIC HEALTH'\n",
    "df.loc[df.Major=='GENERAL', 'Major']='GENERAL STUDIES'\n",
    "df.loc[df.Major=='BIMS', 'Major']='BIOMEDICAL'\n",
    "df.loc[df.Major=='SPORTS', 'Major']='SPORTS MEDICINE'\n",
    "df.loc[df.Major=='SPORT', 'Major']='SPORTS MEDICINE'\n",
    "df.loc[df.Major=='PUBLIC', 'Major']='PUBLIC HEALTH'\n",
    "df.loc[df.Major=='POLITICAL', 'Major']='POLITICAL SCIENCE'\n",
    "df.loc[df.Major=='SPORTS', 'Major']='SPORTS MEDICINE'\n",
    "df.loc[df.Major=='COMMUNICATION', 'Major']='COMMUNICATIONS'\n",
    "df.loc[df.Major=='INTERNATIONAL', 'Major']='INTERNATIONAL STUDIES'\n",
    "df.loc[df.Major=='INTERNATIOL', 'Major']='INTERNATIONAL STUDIES'\n",
    "df.loc[df.Major=='CURRENTLY', 'Major']='TECHNOLOGY MANAGEMENT'\n",
    "df.loc[df.Major=='MOTOR', 'Major']='MOTOR BEHAVIOR'\n",
    "df.loc[df.Major=='PUNBLIC', 'Major']='PUBLIC HEALTH'\n",
    "df.loc[df.Major=='SPORTS', 'Major']='SPORTS MEDICINE'\n",
    "df.loc[df.Major=='HEALTH', 'Major']='ALLIED HEALTH'\n",
    "df.loc[df.Major=='RPTS', 'Major']='RECREATION PARKS TOURISM'\n",
    "df.loc[df.Major=='BIOMEDICA', 'Major']='BIOMEDICAL'\n",
    "df.loc[df.Major=='SPORTS', 'Major']='SPORTS MEDICINE'\n",
    "df.loc[df.Major=='UNIVERSITY', 'Major']='VETERINARY MEDICINE'\n",
    "df.loc[df.Major=='HUMAN', 'Major']='HUMAN RESOURCES'\n",
    "df.loc[df.Major=='COMMUNITY', 'Major']='COMMUNITY HEALTH'\n",
    "df.loc[df.Major=='UNIVERISTY', 'Major']='ARCHITECTURE'\n",
    "df.loc[df.Major=='KINESIOLGY', 'Major']='KINESIOLOGY'\n",
    "df.loc[df.Major=='PYSCHOLOGY', 'Major']='PSYCHOLOGY'\n",
    "df.loc[df.Major=='ALLIE', 'Major']='ALLIED HEALTH'\n",
    "df.loc[df.Major=='MICROBIOLOGY', 'Major']='BIOLOGY'"
   ]
  },
  {
   "cell_type": "code",
   "execution_count": null,
   "metadata": {
    "collapsed": false
   },
   "outputs": [],
   "source": [
    "df.Major.value_counts()"
   ]
  },
  {
   "cell_type": "code",
   "execution_count": null,
   "metadata": {
    "collapsed": false
   },
   "outputs": [],
   "source": [
    "df.drop(['StartDate','EndDate', 'Duration', 'Name'], \n",
    "        axis=1).sort_values('PartID', ascending=True).reset_index(drop='index').to_csv('PCS_cleaned_data.csv', index=None)"
   ]
  }
 ],
 "metadata": {
  "kernelspec": {
   "display_name": "Python 2",
   "language": "python",
   "name": "python2"
  },
  "language_info": {
   "codemirror_mode": {
    "name": "ipython",
    "version": 2
   },
   "file_extension": ".py",
   "mimetype": "text/x-python",
   "name": "python",
   "nbconvert_exporter": "python",
   "pygments_lexer": "ipython2",
   "version": "2.7.12"
  }
 },
 "nbformat": 4,
 "nbformat_minor": 0
}
