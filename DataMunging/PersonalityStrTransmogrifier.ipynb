{
 "cells": [
  {
   "cell_type": "code",
   "execution_count": null,
   "metadata": {
    "collapsed": true
   },
   "outputs": [],
   "source": [
    "# Personality Strength: Study 1 Converter\n",
    "# This will convert the .csv file from Qualtrics into a more usable format with exploratory analyses and reverse scoring.\n",
    "# Created by Tom Tibbett on Nov. 20th, 2015"
   ]
  },
  {
   "cell_type": "code",
   "execution_count": null,
   "metadata": {
    "collapsed": false
   },
   "outputs": [],
   "source": [
    "import numpy as np\n",
    "import pandas as pd\n",
    "import statsmodels.api as sm\n",
    "from statsmodels.formula.api import ols\n",
    "from statsmodels.stats.anova import anova_lm\n",
    "from statsmodels.sandbox.stats.multicomp import TukeyHSDResults\n",
    "pd.options.display.max_rows = 300\n",
    "pd.options.display.max_columns = 300\n",
    "pd.options.display.float_format = '{:,.2f}'.format"
   ]
  },
  {
   "cell_type": "code",
   "execution_count": null,
   "metadata": {
    "collapsed": true
   },
   "outputs": [],
   "source": [
    "# Note on the original file - make sure that the raw data does not include PIIs like names\n",
    "# Call the relevant file; make sure it is in the same folder as this program.\n",
    "file='PersonalityStr1_n17.csv'\n",
    "\n",
    "# What do you want it to be called?  It will output in the same folder as the Python script.\n",
    "csvout='PersonalityStr.csv'"
   ]
  },
  {
   "cell_type": "code",
   "execution_count": null,
   "metadata": {
    "collapsed": false
   },
   "outputs": [],
   "source": [
    "df= pd.read_csv(file, header=0, skiprows=1)"
   ]
  },
  {
   "cell_type": "code",
   "execution_count": null,
   "metadata": {
    "collapsed": false
   },
   "outputs": [],
   "source": [
    "df.head()"
   ]
  },
  {
   "cell_type": "code",
   "execution_count": null,
   "metadata": {
    "collapsed": false
   },
   "outputs": [],
   "source": [
    "df.columns.values"
   ]
  },
  {
   "cell_type": "code",
   "execution_count": null,
   "metadata": {
    "collapsed": false
   },
   "outputs": [],
   "source": [
    "df= df.drop(['ResponseID', 'ResponseSet', 'Name', 'ExternalDataReference', 'EmailAddress', 'IPAddress', 'Status', 'StartDate', 'EndDate', 'Finished', 'PSSTotal-sum', 'PSS1-sum', 'PSS2-sum', 'PSS3-sum', 'PSS4-sum', 'PSS5-sum', 'O-sum', 'C-sum', 'E-sum', 'A-sum', 'N-sum', 'AttCons-sum', 'Identity-sum', 'DP-sum', 'Authenticity-sum', 'LifeSat-sum', 'Flexibility-sum', 'Rigidity-sum', 'EmotionalInt-sum', 'MeaninginLife-sum', 'PresenceMIL-sum', 'SearchingMIL-sum', 'Directions:\\xc2\\xa0Finally, we would like to know a little about you. \\xc2\\xa0Can you tell us a little about yo...', 'LocationLatitude', 'LocationLongitude', 'LocationAccuracy', 'Unnamed: 223'], axis=1)"
   ]
  },
  {
   "cell_type": "code",
   "execution_count": null,
   "metadata": {
    "collapsed": false
   },
   "outputs": [],
   "source": [
    "df"
   ]
  },
  {
   "cell_type": "code",
   "execution_count": null,
   "metadata": {
    "collapsed": false
   },
   "outputs": [],
   "source": [
    "df.columns= ['PSSTotalMean', 'PSSTotalSD', 'PSS1Mean', 'PSS1SD', 'PSS2Mean', 'PSS2SD', 'PSS3Mean', 'PSS3SD', 'PSS4Mean', 'PSS4SD',\n",
    "            'PSS5Mean', 'PSS5SD', 'O', 'O_SD', 'C', 'C_SD', 'E', 'E_SD', 'A', 'A_SD', 'N', 'N_SD', 'AttConsMean', 'AttConsSD', \n",
    "            'IdentityMean', 'IdentitySD', 'DPMean', 'DPSD', 'AuthMean', 'AuthSD', 'LifeSatMean', 'LifeSatSD', 'FlexMean', 'FlexSD',\n",
    "            'RigidityMean', 'RigiditySD', 'EmotIntMean', 'EmotIntSD', 'MILMean', 'MILSD', 'PresenceMean', 'PresenceSD', 'SearchingMean',\n",
    "            'SearchingSD', 'id', 'PSS1_1', 'PSS1_2', 'PSS1_3', 'PSS1_4', 'PSS1_5', 'PSS1_6', 'PSS2_1', 'PSS2_2', 'PSS2_3', 'PSS2_4',\n",
    "            'PSS2_5', 'PSS2_6', 'PSS3_1', 'PSS3_2', 'PSS3_3', 'PSS3_4', 'PSS3_5', 'PSS3_6', 'PSS3_7', 'PSS4_1', 'PSS4_2', 'PSS4_3',\n",
    "            'PSS4_4', 'PSS4_5', 'PSS4_6', 'PSS4_7', 'PSS4_8', 'PSS4_9', 'PSS4_10', 'PSS5_1', 'PSS5_2', 'PSS5_3', 'PSS5_4', 'PSS5_5',\n",
    "            'PSS5_6', 'PSS5_7', 'PSS5_8', 'PSS5_9', 'PSS5_10', 'PSS5_11', 'PSS5_12', 'PSS5_13', 'PSS5_14', 'PSS5_15', 'E1', 'A1', 'C1',\n",
    "            'N1', 'O1', 'E2', 'A2', 'C2', 'N2', 'O2', 'E3', 'A3', 'C3', 'N3', 'O3', 'E4', 'A4', 'C4', 'N4', 'O4', 'AttCons1', 'AttCons2',\n",
    "            'AttCons3', 'AttCons4', 'AttCons5', 'AttCons6', 'AttCons7', 'AttCons8', 'Identity1', 'Identity2', 'Identity3', 'Identity4',\n",
    "            'Identity5', 'DP1', 'DP2', 'DP3', 'DP4', 'DP5', 'Auth1', 'Auth2', 'Auth3', 'Auth4', 'Auth5', 'Auth6', 'Auth7', 'Auth8',\n",
    "            'Auth9', 'Auth10', 'Auth11', 'Auth12', 'LifeSat1', 'LifeSat2', 'LifeSat3', 'LifeSat4', 'LifeSat5', 'Flex1', 'Flex2', 'Flex3',\n",
    "            'Flex4', 'Flex5', 'Flex6', 'Flex7', 'Flex8', 'Flex9', 'Flex10', 'Rigid1', 'Rigid2', 'Rigid3', 'Rigid4', 'Rigid5', 'Rigid6',\n",
    "            'Rigid7', 'Rigid8', 'Rigid9', 'Rigid10', 'EmoInt1', 'EmoInt2', 'EmoInt3', 'EmoInt4', 'EmoInt5', 'EmoInt6', 'EmoInt7',\n",
    "            'MIL1', 'MIL2', 'MIL3', 'MIL4', 'MIL5', 'MIL6', 'MIL7', 'MIL8', 'MIL9', 'MIL10', 'Gender', 'GenderO', 'Class',\n",
    "            'Pol', 'PolO', 'Age']"
   ]
  },
  {
   "cell_type": "code",
   "execution_count": null,
   "metadata": {
    "collapsed": false,
    "scrolled": false
   },
   "outputs": [],
   "source": [
    "df"
   ]
  },
  {
   "cell_type": "code",
   "execution_count": null,
   "metadata": {
    "collapsed": false
   },
   "outputs": [],
   "source": [
    "print 'Frequencies - Gender'\n",
    "\n",
    "Gender= df['Gender'].groupby(df['Gender']).count()\n",
    "Gender=pd.DataFrame(Gender)\n",
    "Gender.index=['Male', 'Female']\n",
    "Gender.columns=['Count']\n",
    "Gender"
   ]
  },
  {
   "cell_type": "code",
   "execution_count": null,
   "metadata": {
    "collapsed": false
   },
   "outputs": [],
   "source": [
    "print 'Frequencies - Political Affiliation'\n",
    "Pol= df['Pol'].groupby(df['Pol']).count()\n",
    "Pol=pd.DataFrame(Pol)\n",
    "Pol.columns=['Count']\n",
    "Pold = dict([(1, \"Independent\"),\n",
    "            (2, \"Democrat\"),\n",
    "            (3, \"Republican\"),\n",
    "            (4, \"Libertarian\"),\n",
    "            (5, \"Tea Party\"),\n",
    "            (6, \"Other\")])\n",
    "print Pold\n",
    "Pol"
   ]
  },
  {
   "cell_type": "code",
   "execution_count": null,
   "metadata": {
    "collapsed": false
   },
   "outputs": [],
   "source": [
    "print 'Frequencies - Classification'\n",
    "Class= df['Class'].groupby(df['Class']).count()\n",
    "Class=pd.DataFrame(Class)\n",
    "Class.columns=['Count']\n",
    "Classd = dict([(1, \"Freshman\"),\n",
    "            (2, \"Sophomore\"),\n",
    "            (3, \"Junior\"),\n",
    "            (4, \"Senior\"),\n",
    "            (5, \"Graduate Student\"),\n",
    "            (6, \"Other\")])\n",
    "print Classd\n",
    "Class"
   ]
  },
  {
   "cell_type": "code",
   "execution_count": null,
   "metadata": {
    "collapsed": false
   },
   "outputs": [],
   "source": [
    "df[['Age', 'O', 'C', 'E', 'A', 'N', 'PSS1Mean', 'PSS2Mean', 'PSS3Mean', 'PSS4Mean', \n",
    "    'AttConsMean', 'AuthMean', 'DPMean', 'LifeSatMean', 'FlexMean', 'RigidityMean', \n",
    "    'EmotIntMean', 'MILMean', 'PresenceMean', 'SearchingMean']].describe()"
   ]
  },
  {
   "cell_type": "code",
   "execution_count": null,
   "metadata": {
    "collapsed": false
   },
   "outputs": [],
   "source": [
    "# Reverse scoring.  See the codebook for details.\n",
    "# Personality Strength Scale\n",
    "df['PSS1_2R']=8-df['PSS1_2']\n",
    "df['PSS2_1R']=8-df['PSS2_1']\n",
    "df['PSS2_3R']=8-df['PSS2_3']\n",
    "df['PSS2_5R']=8-df['PSS2_5']\n",
    "df['PSS3_1R']=8-df['PSS3_1']\n",
    "df['PSS3_2R']=8-df['PSS3_2']\n",
    "df['PSS3_3R']=8-df['PSS3_3']\n",
    "df['PSS3_4R']=8-df['PSS3_4']\n",
    "df['PSS3_5R']=8-df['PSS3_5']\n",
    "df['PSS3_7R']=8-df['PSS3_7']\n",
    "df['PSS5_8R']=8-df['PSS5_8']\n",
    "df['PSS5_12R']=8-df['PSS5_12']\n",
    "\n",
    "# Attitude Consistency\n",
    "df['AttCons1R']=8-df['AttCons1']\n",
    "df['AttCons2R']=8-df['AttCons2']\n",
    "df['AttCons3R']=8-df['AttCons3']\n",
    "df['AttCons6R']=8-df['AttCons6']\n",
    "df['AttCons7R']=8-df['AttCons7']\n",
    "\n",
    "# Identity\n",
    "df['Identity3R']=8-df['Identity3']\n",
    "\n",
    "# MDMQ - Indecision needs no reverse coding\n",
    "\n",
    "# Authenticity Scale\n",
    "df['Auth2R']=8-df['Auth2']\n",
    "df['Auth3R']=8-df['Auth3']\n",
    "df['Auth4R']=8-df['Auth4']\n",
    "df['Auth5R']=8-df['Auth5']\n",
    "df['Auth6R']=8-df['Auth6']\n",
    "df['Auth7R']=8-df['Auth7']\n",
    "df['Auth10R']=8-df['Auth10']\n",
    "df['Auth12R']=8-df['Auth12']\n",
    "\n",
    "# Mini-IPIP\n",
    "df['E2R']=8-df['E2']\n",
    "df['E4R']=8-df['E4']\n",
    "df['C2R']=8-df['C2']\n",
    "df['C4R']=8-df['C4']\n",
    "df['N2R']=8-df['N2']\n",
    "df['N4R']=8-df['N4']\n",
    "df['A2R']=8-df['A2']\n",
    "df['A4R']=8-df['A4']\n",
    "df['O2R']=8-df['O2']\n",
    "df['O3R']=8-df['O3']\n",
    "df['O4R']=8-df['O4']\n",
    "\n",
    "# Satisfaction with Life scale needs no reverse coding.\n",
    "\n",
    "# HEXACO Flexibility\n",
    "df['Flex3R']=8-df['Flex3']\n",
    "df['Flex4R']=8-df['Flex4']\n",
    "df['Flex5R']=8-df['Flex5']\n",
    "df['Flex6R']=8-df['Flex6']\n",
    "df['Flex7R']=8-df['Flex7']\n",
    "df['Flex8R']=8-df['Flex8']\n",
    "df['Flex9R']=8-df['Flex9']\n",
    "df['Flex10R']=8-df['Flex10']\n",
    "\n",
    "# CAT PD - Rigidity needs no reverse coding\n",
    "\n",
    "# Emotional Intelligence\n",
    "df['EmoInt7R']=8-df['EmoInt7']\n",
    "\n",
    "# Meaning in Life\n",
    "df['MIL9R']=8-df['MIL9']"
   ]
  },
  {
   "cell_type": "code",
   "execution_count": null,
   "metadata": {
    "collapsed": false
   },
   "outputs": [],
   "source": [
    "# Calculating Cronbach's alpha\n",
    " \n",
    "def CronbachAlpha(itemscores):\n",
    "    itemscores = np.asarray(itemscores)\n",
    "    itemvars = itemscores.var(axis=1, ddof=1)\n",
    "    tscores = itemscores.sum(axis=0)\n",
    "    nitems = len(itemscores)\n",
    "\n",
    "    return nitems / (nitems-1.) * (1 - itemvars.sum() / tscores.var(ddof=1))\n",
    "\n",
    "#Defining the Measures to be tested\n",
    "PSS1=[df.PSS1_1, df.PSS1_2R, df.PSS1_3, df.PSS1_4, df.PSS1_5, df.PSS1_6]\n",
    "PSS2=[df.PSS2_1R, df.PSS2_2, df.PSS2_3R, df.PSS2_4, df.PSS2_5R, df.PSS2_6]\n",
    "PSS3=[df.PSS3_1R, df.PSS3_2R, df.PSS3_3R, df.PSS3_4R, df.PSS3_5R, df.PSS3_6, df.PSS3_7R]\n",
    "PSS4=[df.PSS4_1, df.PSS4_2, df.PSS4_3, df.PSS4_4, df.PSS4_5, df.PSS4_6, df.PSS4_7, df.PSS4_8, df.PSS4_9, df.PSS4_10]\n",
    "Indecision=[df.DP1, df.DP2, df.DP3, df.DP4, df.DP5]\n",
    "Flex=[df.Flex1, df.Flex2, df.Flex3R, df.Flex4R, df.Flex5R, df.Flex6R, df.Flex7R, df.Flex8R, df.Flex9R, df.Flex10R]\n",
    "Rigidity=[df.Rigid1, df.Rigid2, df.Rigid3, df.Rigid4,df.Rigid5,df.Rigid6, df.Rigid7, df.Rigid8, df.Rigid9, df.Rigid10]\n",
    "AttCon=[df.AttCons1R, df.AttCons2R, df.AttCons3R, df.AttCons4, df.AttCons5, df.AttCons6R, df.AttCons7R]\n",
    "O=[df.O1, df.O2R, df.O3R, df.O4R]\n",
    "C=[df.C1, df.C2R, df.C3, df.C4R]\n",
    "E=[df.E1, df.E2R, df.E3, df.E4R]\n",
    "A=[df.A1, df.A2R, df.A3, df.A4R]\n",
    "N=[df.N1, df.N2R, df.N3, df.N4R]\n",
    "LifeSat=[df.LifeSat1, df.LifeSat2, df.LifeSat3, df.LifeSat4, df.LifeSat5]\n",
    "Auth=[df.Auth1, df.Auth2R, df.Auth3R, df.Auth4R, df.Auth5R, df.Auth6R, df.Auth7R, df.Auth8, df.Auth9, df.Auth10R, df.Auth11, df.Auth12R]\n",
    "EmoInt=[df.EmoInt1, df.EmoInt2, df.EmoInt3, df.EmoInt4, df.EmoInt5, df.EmoInt6, df.EmoInt7R]\n",
    "Searching=[df.MIL1, df.MIL4, df.MIL5, df.MIL6, df.MIL9R]\n",
    "Presence=[df.MIL2, df.MIL3, df.MIL7, df.MIL8, df.MIL10]"
   ]
  },
  {
   "cell_type": "code",
   "execution_count": null,
   "metadata": {
    "collapsed": false
   },
   "outputs": [],
   "source": [
    "print \"Cronbach's Alphas - Measures of Internal Consistency Reliability\"\n",
    "print 'There is a missing value in Presence.  Working on figuring a way to circumvent this in Python.'\n",
    "Alpha=[[\"PSS - Across Time\", CronbachAlpha(PSS1)],\n",
    "       [\"PSS - Within Context\", CronbachAlpha(PSS2)],\n",
    "       [\"PSS - Between Contexts\", CronbachAlpha(PSS3)],\n",
    "       [\"PSS - Specific Situations\", CronbachAlpha(PSS4)],\n",
    "       [\"MDMQ - Indecision\", CronbachAlpha(Indecision)],\n",
    "       [\"HEXACO - Flexibility\", CronbachAlpha(Flex)],\n",
    "       [\"CAT PD - Rigidity\", CronbachAlpha(Rigidity)],\n",
    "       [\"Attitude Consistency\", CronbachAlpha(AttCon)],\n",
    "       [\"Mini-IPIP - Intelligence\", CronbachAlpha(O)],\n",
    "       [\"Mini-IPIP - Conscientiousness\", CronbachAlpha(C)],\n",
    "       [\"Mini-IPIP - Extraversion\", CronbachAlpha(E)],\n",
    "       [\"Mini-IPIP - Agreeableness\", CronbachAlpha(A)],\n",
    "       [\"Mini-IPIP - Neuroticism\", CronbachAlpha(N)],\n",
    "       [\"Satisfaction with Life Scale\", CronbachAlpha(LifeSat)],\n",
    "       [\"Authenticity Scale\", CronbachAlpha(Auth)],\n",
    "       [\"VIA - Emotional Intelligence\", CronbachAlpha(EmoInt)],\n",
    "       [\"Meaning in Life - Presence\", CronbachAlpha(Presence)],\n",
    "       [\"Meaning in Life - Searching\", CronbachAlpha(Searching)]]\n",
    "Alpha=pd.DataFrame(Alpha)\n",
    "Alpha.columns=['Psychological Scale', 'Alpha']\n",
    "Alpha"
   ]
  },
  {
   "cell_type": "code",
   "execution_count": null,
   "metadata": {
    "collapsed": false
   },
   "outputs": [],
   "source": [
    "Con = df.C\n",
    "Agr = df.A\n",
    "Neu = df.N\n",
    "Int = df.O\n",
    "Ext = df.E\n",
    "\n",
    "Y = df.PSS1Mean \n",
    "formula = 'Y ~ Con+Agr+Neu+Int+Ext'\n",
    "lm = ols(formula, df).fit()\n",
    "print '\\nRegression Results - Consistency Across Time Subscale and Personality\\n'\n",
    "print lm.summary()"
   ]
  },
  {
   "cell_type": "code",
   "execution_count": null,
   "metadata": {
    "collapsed": false
   },
   "outputs": [],
   "source": [
    "Y = df.PSS2Mean \n",
    "formula = 'Y ~ Con+Agr+Neu+Int+Ext'\n",
    "lm = ols(formula, df).fit()\n",
    "print '\\nRegression Results - Consistency Within Context Subscale and Personality\\n'\n",
    "print lm.summary()"
   ]
  },
  {
   "cell_type": "code",
   "execution_count": null,
   "metadata": {
    "collapsed": false
   },
   "outputs": [],
   "source": [
    "Y = df.PSS3Mean \n",
    "formula = 'Y ~ Con+Agr+Neu+Int+Ext'\n",
    "lm = ols(formula, df).fit()\n",
    "print '\\nRegression Results - Consistency Between Contexts Subscale and Personality\\n'\n",
    "print lm.summary()"
   ]
  },
  {
   "cell_type": "code",
   "execution_count": null,
   "metadata": {
    "collapsed": false
   },
   "outputs": [],
   "source": [
    "B = df.AuthMean\n",
    "Y = df.PSS3Mean \n",
    "formula = 'Y ~ B'\n",
    "lm = ols(formula, df).fit()\n",
    "print '\\nRegression Results - Consistency Between Contexts Subscale and Authenticity\\n'\n",
    "print lm.summary()"
   ]
  },
  {
   "cell_type": "code",
   "execution_count": null,
   "metadata": {
    "collapsed": false
   },
   "outputs": [],
   "source": [
    "B = df.SearchingMean\n",
    "Y = df.PSS4Mean \n",
    "formula = 'Y ~ B'\n",
    "lm = ols(formula, df).fit()\n",
    "print '\\nRegression Results - Consistency Between Contexts Subscale and Searching for Meaning in Life\\n'\n",
    "print lm.summary()"
   ]
  },
  {
   "cell_type": "code",
   "execution_count": null,
   "metadata": {
    "collapsed": false
   },
   "outputs": [],
   "source": [
    "B = df.EmotIntMean\n",
    "Y = df.PSS1Mean \n",
    "formula = 'Y ~ B'\n",
    "lm = ols(formula, df).fit()\n",
    "print '\\nRegression Results - Consistency Between Contexts Subscale and Emotional Intelligence\\n'\n",
    "print lm.summary()"
   ]
  },
  {
   "cell_type": "code",
   "execution_count": null,
   "metadata": {
    "collapsed": false
   },
   "outputs": [],
   "source": [
    "df.to_csv(csvout, index=False, sep=',')"
   ]
  }
 ],
 "metadata": {
  "kernelspec": {
   "display_name": "Python 2",
   "language": "python",
   "name": "python2"
  },
  "language_info": {
   "codemirror_mode": {
    "name": "ipython",
    "version": 2
   },
   "file_extension": ".py",
   "mimetype": "text/x-python",
   "name": "python",
   "nbconvert_exporter": "python",
   "pygments_lexer": "ipython2",
   "version": "2.7.10"
  }
 },
 "nbformat": 4,
 "nbformat_minor": 0
}
