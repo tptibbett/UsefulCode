{
 "cells": [
  {
   "cell_type": "markdown",
   "metadata": {},
   "source": [
    "**Monthly Churn Preparation**\n",
    "\n",
    "**Created by Tom Tibbett**\n",
    "\n",
    "**Description:** The following code is taken from munging a real data set with monthly recurring data.  The original usage was preparation for a Churn Model.  Months where the individual did not participate were blank, so no one column had their most recent device. Passwords and other things have been removed, so no actual data will be called.  However, this code can be adapted to do the following things:\n",
    "\n",
    "* Call a table in a HANA SQL database and insert it (wholly or in part) into a Pandas DataFrame\n",
    "* Create a function that identifies the first non-null value outside of the ID\n",
    "* Counts the non-null fields (excluding ID), implying how many months they participated in the service.\n",
    "* Subsets based on whether the first non-null value differed from the last non-null value\n",
    "\n",
    "*Note:* In this database, the columns progress in reverse order.  In this example, June2016 is column number 2, while May2016 is column number 3, etc."
   ]
  },
  {
   "cell_type": "code",
   "execution_count": null,
   "metadata": {
    "collapsed": true
   },
   "outputs": [],
   "source": [
    "# Importing libraries\n",
    "import pandas as pd\n",
    "import numpy as np\n",
    "import pyhdb"
   ]
  },
  {
   "cell_type": "code",
   "execution_count": null,
   "metadata": {
    "collapsed": false
   },
   "outputs": [],
   "source": [
    "# Connecting to HANA\n",
    "connection = pyhdb.connect(\n",
    "    host=\"host.com\",\n",
    "    port=30015,\n",
    "    user=\"user\",\n",
    "    password=\"pass\"\n",
    ")\n",
    "\n",
    "cursor = connection.cursor()\n",
    "cursor.execute(\"\"\"INSERT YOUR SQL QUERY HERE\"\"\")\n",
    "df= pd.DataFrame(cursor.fetchall())"
   ]
  },
  {
   "cell_type": "code",
   "execution_count": null,
   "metadata": {
    "collapsed": false
   },
   "outputs": [],
   "source": [
    "# Giving Customized Column Names, based on how many columns you call\n",
    "df.columns=['ID', 'June2016', 'May2016', 'April2016', 'March2016', 'Feb2016', 'Jan2016', 'Dec2015', 'Nov2015',\n",
    "           'Oct2015', 'Sept2015', 'Aug2015', 'July2015', 'June2015', 'May2015']"
   ]
  },
  {
   "cell_type": "code",
   "execution_count": null,
   "metadata": {
    "collapsed": false
   },
   "outputs": [],
   "source": [
    "# Grabs the First Non-Null Column\n",
    "def func(x):\n",
    "    if x.first_valid_index() is None:\n",
    "        return None\n",
    "    else:\n",
    "        return x[x.first_valid_index()]\n",
    "\n",
    "df['MonthsActive']=np.sum(df.notnull(), axis=1)-1 # Accounts for the Unique ID Field\n",
    "\n",
    "df['Recent']=df.iloc[:,1:].apply(func, axis=1) # You want to skip ID, so .iloc is necessary"
   ]
  },
  {
   "cell_type": "code",
   "execution_count": null,
   "metadata": {
    "collapsed": false
   },
   "outputs": [],
   "source": [
    "# Creates and populates a new column based on whether the first non-null and last date column match. \n",
    "df.loc[df['Recent']==df['May2015'], 'Upgrade']='No Change' # All inputs here are categorical\n",
    "df.loc[df['Recent']!=df['May2015'], 'Upgrade']='Change'"
   ]
  },
  {
   "cell_type": "code",
   "execution_count": null,
   "metadata": {
    "collapsed": false
   },
   "outputs": [],
   "source": [
    "# Creates a summary table of constituents by number of months they were non-null.\n",
    "print 'All Constituents Counts of Monthly Activity'\n",
    "MA=pd.DataFrame(df['MonthsActive'].value_counts().reset_index())\n",
    "MA.columns= ['MonthsActive', 'Cons_Counts']\n",
    "MA=MA.sort_values('MonthsActive')\n",
    "MA['Percent']=MA['Cons_Counts']/np.sum(MA['Cons_Counts'], axis=0)\n",
    "print MA.reset_index(drop='index')\n",
    "\n",
    "# Prints an overall total of participants\n",
    "print '\\nThere are', np.sum(MA['Cons_Counts']), 'constituents in all.'"
   ]
  },
  {
   "cell_type": "code",
   "execution_count": null,
   "metadata": {
    "collapsed": false,
    "scrolled": true
   },
   "outputs": [],
   "source": [
    "# Individual table of those whom changed\n",
    "print '\\nMonthly Participation Among Those Whom Changed'\n",
    "print df[['ID','May2015','Recent', 'MonthsActive']].ix[df['Upgrade']=='Upgrade'].sort_values('MonthsActive')"
   ]
  },
  {
   "cell_type": "code",
   "execution_count": null,
   "metadata": {
    "collapsed": false
   },
   "outputs": [],
   "source": [
    "# Creates a summary table of those whom changed\n",
    "print 'Counts by Month Among Those Whom Changed\\n'\n",
    "MAU=pd.DataFrame(df['MonthsActive'].ix[df['Upgrade']=='Upgrade'].value_counts().reset_index())\n",
    "MAU.columns= ['MonthsActive', 'Cons_Counts']\n",
    "MAU=MAU.sort_values('MonthsActive')\n",
    "MAU['Percent']=MAU['Cons_Counts']/np.sum(MAU['Cons_Counts'], axis=0)\n",
    "print MAU.reset_index(drop='index')\n",
    "print '\\n'\n",
    "print 'There are', np.sum(MAU['Cons_Counts']), 'constituents in all whom changed.'"
   ]
  }
 ],
 "metadata": {
  "kernelspec": {
   "display_name": "Python [Root]",
   "language": "python",
   "name": "Python [Root]"
  },
  "language_info": {
   "codemirror_mode": {
    "name": "ipython",
    "version": 2
   },
   "file_extension": ".py",
   "mimetype": "text/x-python",
   "name": "python",
   "nbconvert_exporter": "python",
   "pygments_lexer": "ipython2",
   "version": "2.7.12"
  }
 },
 "nbformat": 4,
 "nbformat_minor": 0
}
